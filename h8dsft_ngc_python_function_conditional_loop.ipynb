{
 "cells": [
  {
   "cell_type": "code",
   "execution_count": 16,
   "metadata": {},
   "outputs": [
    {
     "name": "stdout",
     "output_type": "stream",
     "text": [
      "2\n",
      "8\n",
      "5\n"
     ]
    }
   ],
   "source": [
    "# Task 1\n",
    "\n",
    "def number_of_word(sentence):\n",
    "    splitSentence = sentence.split()\n",
    "    # print(splitSentence)\n",
    "    print(len(splitSentence))\n",
    "\n",
    "number_of_word(sentence = \"Hello World!\")\n",
    "number_of_word(sentence = \"Once Upon a Time in a faraway land\")\n",
    "number_of_word(sentence=\"Nama saya Diko Alfatha Ikhram\")"
   ]
  },
  {
   "cell_type": "code",
   "execution_count": 19,
   "metadata": {},
   "outputs": [
    {
     "name": "stdout",
     "output_type": "stream",
     "text": [
      "5\n",
      "10\n",
      "15\n",
      "20\n",
      "\n",
      "10\n",
      "20\n",
      "30\n",
      "40\n",
      "50\n",
      "\n",
      "10\n",
      "20\n",
      "30\n",
      "40\n",
      "50\n",
      "60\n",
      "70\n",
      "80\n",
      "90\n",
      "100\n"
     ]
    }
   ],
   "source": [
    "# Task 2\n",
    "\n",
    "def find_multiple(start_range, end_range, multiple):\n",
    "    for number in range(multiple, start_range + end_range, multiple):\n",
    "        print(number)\n",
    "\n",
    "find_multiple(start_range= 1, end_range= 20, multiple= 5)\n",
    "print()\n",
    "find_multiple(start_range= 1, end_range= 50, multiple= 10)\n",
    "print()\n",
    "find_multiple(start_range= 1, end_range= 100, multiple= 10)"
   ]
  },
  {
   "cell_type": "code",
   "execution_count": 47,
   "metadata": {},
   "outputs": [
    {
     "name": "stdout",
     "output_type": "stream",
     "text": [
      "Adam  :  2.5\n",
      "Faiz  :  4\n",
      "\n",
      "Albert  :  A\n",
      "Dwi  :  B\n",
      "Syahdan  :  D\n",
      "Veronica  :  F\n",
      "\n"
     ]
    }
   ],
   "source": [
    "# Task 3\n",
    "\n",
    "\n",
    "def Grade_Converter(convert_to, **students):\n",
    "\n",
    "    for student in students:\n",
    "        if(students[student] >= 85 and students[student] <= 100):\n",
    "            if(convert_to == \"gpa\"):\n",
    "                grade = 4\n",
    "            else:\n",
    "                grade = \"A\"\n",
    "        elif(students[student] >= 70 and students[student] <= 84.99):\n",
    "            if(convert_to == \"gpa\"):\n",
    "                grade = 3\n",
    "            else:\n",
    "                grade = \"B\"\n",
    "        elif(students[student] >= 60 and students[student] <= 69.99):\n",
    "            if(convert_to == \"gpa\"):\n",
    "                grade = 2.5\n",
    "            else:\n",
    "                grade = \"C\"\n",
    "        elif(students[student] >= 50 and students[student] <= 59.99):\n",
    "            if(convert_to == \"gpa\"):\n",
    "                grade = 2\n",
    "            else:\n",
    "                grade = \"D\"\n",
    "        elif(students[student] >= 40 and students[student] <= 49.99):\n",
    "            if(convert_to == \"gpa\"):\n",
    "                grade = 1.5\n",
    "            else:\n",
    "                grade = \"E\"\n",
    "        else:\n",
    "            if(convert_to == \"gpa\"):\n",
    "                grade = 1\n",
    "            else:\n",
    "                grade = \"F\"\n",
    "\n",
    "        print(student, \" : \", grade)\n",
    "    print()\n",
    "\n",
    "\n",
    "Grade_Converter(convert_to='gpa', Adam=62,Faiz=91)\n",
    "Grade_Converter(convert_to='letter_grade', Albert=90, Dwi=82, Syahdan=58, Veronica=84)"
   ]
  },
  {
   "cell_type": "code",
   "execution_count": 45,
   "metadata": {},
   "outputs": [
    {
     "name": "stdout",
     "output_type": "stream",
     "text": [
      "0\n",
      "3\n",
      "55\n"
     ]
    }
   ],
   "source": [
    "# Task 4\n",
    "number1 = 0\n",
    "number2 = 1\n",
    "Fibo_Seq = []\n",
    "\n",
    "for sequence in range (20):\n",
    "    Fibo_Seq.append(number1)\n",
    "\n",
    "    number1, number2 = number2, number1 + number2\n",
    "\n",
    "def my_function(n):\n",
    "    if(n <= len(Fibo_Seq) - 1):\n",
    "        print(Fibo_Seq[n])\n",
    "    else:\n",
    "        print(\"diluar jangkauan\")\n",
    "\n",
    "my_function(n=0)\n",
    "my_function(n=4)\n",
    "my_function(n=10)"
   ]
  }
 ],
 "metadata": {
  "kernelspec": {
   "display_name": "pyth39",
   "language": "python",
   "name": "python3"
  },
  "language_info": {
   "codemirror_mode": {
    "name": "ipython",
    "version": 3
   },
   "file_extension": ".py",
   "mimetype": "text/x-python",
   "name": "python",
   "nbconvert_exporter": "python",
   "pygments_lexer": "ipython3",
   "version": "3.9.18"
  }
 },
 "nbformat": 4,
 "nbformat_minor": 2
}
